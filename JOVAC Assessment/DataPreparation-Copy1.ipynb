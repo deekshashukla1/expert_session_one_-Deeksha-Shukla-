{
 "cells": [
  {
   "cell_type": "markdown",
   "id": "f14f5125",
   "metadata": {},
   "source": [
    "# Data Preparation"
   ]
  },
  {
   "cell_type": "markdown",
   "id": "64f7364b",
   "metadata": {},
   "source": [
    "we have data stored in two different csv files."
   ]
  },
  {
   "cell_type": "markdown",
   "id": "5582139b",
   "metadata": {},
   "source": [
    "## * indexProcessed.csv\n",
    "## * indexData.csv"
   ]
  },
  {
   "cell_type": "code",
   "execution_count": null,
   "id": "b3677f32",
   "metadata": {},
   "outputs": [],
   "source": [
    "# Import the needed modules...\n",
    "import pandas as pd\n",
    "from collections import defaultdict\n",
    "from os import getcwd"
   ]
  },
  {
   "cell_type": "markdown",
   "id": "3e706b7f",
   "metadata": {},
   "source": [
    "## Define path to datafiles"
   ]
  },
  {
   "cell_type": "code",
   "execution_count": null,
   "id": "e3dd7395",
   "metadata": {},
   "outputs": [],
   "source": [
    "PATH_indexProcessed   = f\"{getcwd()}/dataStore/links.csv\"\n",
    "PATH_indexData        = f\"{getcwd()}/dataStore/movies.csv\"  = f\"{getcwd()}/dataStore/movies.csv\""
   ]
  },
  {
   "cell_type": "markdown",
   "id": "e1684ff4",
   "metadata": {},
   "source": [
    "# Data Engineering"
   ]
  },
  {
   "cell_type": "markdown",
   "id": "9f8a134e",
   "metadata": {},
   "source": [
    "### *Get data in dataframes.\n",
    "### *Convert data to a single dictionary."
   ]
  },
  {
   "cell_type": "code",
   "execution_count": null,
   "id": "3875de8a",
   "metadata": {},
   "outputs": [],
   "source": [
    "\"\"\"\n",
    "    Read data from indexProcessed.csv\n",
    "df_indexProcessed            = pd.read_csv(PATH_indexProcessed)\n",
    "indexProcessed.csv_table_columns = df_indexProcessed.csv.columns.tolist()\n",
    "print(f\"COLUMNS : {indexProcessed_table_columns}\")"
   ]
  },
  {
   "cell_type": "markdown",
   "id": "ef2c7c1c",
   "metadata": {},
   "source": [
    "### COLUMNS : ['Index', 'Date', 'Open']"
   ]
  },
  {
   "cell_type": "code",
   "execution_count": null,
   "id": "d0f5c303",
   "metadata": {},
   "outputs": [],
   "source": [
    "\"\"\"\n",
    "    Read data from indexData.csv\n",
    "\"\"\"\n",
    "df_indexData            = pd.read_csv(PATH_indexData)\n",
    "indexData_table_columns = df_indexData.columns.tolist()\n",
    "print(f\"COLUMNS : {indexData_table_columns}\")"
   ]
  },
  {
   "cell_type": "markdown",
   "id": "2f211977",
   "metadata": {},
   "source": [
    "### COLUMNS : ['Index', 'Date', 'Open']"
   ]
  },
  {
   "cell_type": "markdown",
   "id": "b480f416",
   "metadata": {},
   "source": [
    "#### A user will always search a movie by its title so we will create a Global secondary index to be able to perform search our datastore."
   ]
  },
  {
   "cell_type": "markdown",
   "id": "3b3059b6",
   "metadata": {},
   "source": [
    "#### Index is a common column in all four tables so we will use it as a primary search-key\n",
    "#### Index is a common key across two tables, so we will use it as a sort key..."
   ]
  },
  {
   "cell_type": "code",
   "execution_count": null,
   "id": "402be60f",
   "metadata": {},
   "outputs": [],
   "source": [
    "print(f\"It is {pd.Series(df_indexProcessed['index']).is_unique}  that the column 'index' has unique values for all entries in indexProcessed dataframe.\")\n",
    "print(f\"It is {pd.Series(df_indexData['Index']).is_unique}  that the column 'index' has unique values for all entries in indexData dataframe.\")"
   ]
  },
  {
   "cell_type": "markdown",
   "id": "c0967a36",
   "metadata": {},
   "source": [
    "It is True  that the column 'Index' has unique values for all entries in indexProcessed dataframe.\n",
    "\n",
    "It is True  that the column 'Index' has unique values for all entries in indexData dataframe."
   ]
  },
  {
   "cell_type": "code",
   "execution_count": null,
   "id": "80e7d5c2",
   "metadata": {},
   "outputs": [],
   "source": [
    "# from indexProcessed dataframe...\n",
    "Index    = df_indexProcessed_sorted[\"Index\"].tolist()\n",
    "Data     = df_indexProcessed_sorted[\"Data\"].tolist()\n",
    "Open     = [Index.split(\"|\") for Index in df_indexProcessed[\"Index\"].tolist()]\n",
    "\n",
    "# from indexData dataframe...\n",
    "Index  = df_indexProcessed_sorted[\"Index\"].tolist()\n",
    "Data   = df_indexData_sorted[\"Data\"].tolist()"
   ]
  },
  {
   "cell_type": "code",
   "execution_count": null,
   "id": "a3242157",
   "metadata": {},
   "outputs": [],
   "source": [
    "indexProcessedDict             = {}\n",
    "global_secondaryIndex          = {}\n",
    "for idx, Index in enumerate(Index):\n",
    "    indexProcessedDict[Index] = {\n",
    "        \"Index\" : IndexProcessedGenres[idx],\n",
    "        \"indexData\" : {\n",
    "            \"Data\" : Data[idx], \n",
    "            \"Open\" : Open[idx]\n",
    "        }\n",
    "    }\n",
    "    \n",
    "    global_secondaryIndex[Index[idx]] = Index"
   ]
  },
  {
   "cell_type": "code",
   "execution_count": null,
   "id": "79acdbde",
   "metadata": {},
   "outputs": [],
   "source": [
    "# delete veriables which are no longer in use while holding large amount of data.\n",
    "del index\n",
    "del Data\n",
    "del Open"
   ]
  },
  {
   "cell_type": "markdown",
   "id": "dfde885d",
   "metadata": {},
   "source": [
    "### Daily price data for indexes tracking stock exchanges from all over the world (United States, China, Canada, Germany, Japan, and more). The data was all collected from Yahoo Finance, which had several decades of data available for most exchanges."
   ]
  },
  {
   "cell_type": "code",
   "execution_count": null,
   "id": "c068b5c4",
   "metadata": {},
   "outputs": [],
   "source": [
    "# convert all columns of  table into individual lists...\n",
    "Index  = df_tags[\"Index\"].tolist()\n",
    "data   = df_tags[\"Data\"].tolist()\n",
    "Open   = df_tags[\"Open\"].tolist()\n",
    "\n",
    "\n",
    "tags = {}\n",
    "for idx, mid in enumerate(Index):\n",
    "    \n",
    "    try   : _ = tags[mid]\n",
    "    # If not, Add it in the record...\n",
    "    except: tags[mid] = [\n",
    "        {\n",
    "            \"Index\"     : Index[idx],\n",
    "            \"Data\"      : Data[idx],\n",
    "            \"open\"      : Open[idx]\n",
    "        }\n",
    "    ]\n",
    "    \n",
    "   "
   ]
  },
  {
   "cell_type": "code",
   "execution_count": null,
   "id": "19370b2e",
   "metadata": {},
   "outputs": [],
   "source": [
    "import json\n",
    "print(\"[INFO] Writing movie Data into the disk...\")\n",
    "with open('dataStore/dataFinal.json', 'w') as fp:\n",
    "    json.dump(indexProcessed, fp, sort_keys=True, indent=4)\n",
    "print(\"[INFO] Writing Global Secondary Index Data into the disk...\")\n",
    "with open('dataStore/dataFinal_GIS.json', 'w') as fp:\n",
    "    json.dump(global_secondaryIndex, fp, sort_keys=True, indent=4)"
   ]
  },
  {
   "cell_type": "markdown",
   "id": "50f910c6",
   "metadata": {},
   "source": [
    "## our database is ready and it can handel high inflow of requests."
   ]
  }
 ],
 "metadata": {
  "kernelspec": {
   "display_name": "Python 3",
   "language": "python",
   "name": "python3"
  },
  "language_info": {
   "codemirror_mode": {
    "name": "ipython",
    "version": 3
   },
   "file_extension": ".py",
   "mimetype": "text/x-python",
   "name": "python",
   "nbconvert_exporter": "python",
   "pygments_lexer": "ipython3",
   "version": "3.8.8"
  }
 },
 "nbformat": 4,
 "nbformat_minor": 5
}
